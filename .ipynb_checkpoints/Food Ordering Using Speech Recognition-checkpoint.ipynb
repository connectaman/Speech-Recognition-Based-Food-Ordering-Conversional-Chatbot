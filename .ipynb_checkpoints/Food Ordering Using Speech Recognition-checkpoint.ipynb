{
 "cells": [
  {
   "cell_type": "code",
   "execution_count": 4,
   "metadata": {},
   "outputs": [
    {
     "name": "stdout",
     "output_type": "stream",
     "text": [
      "Collecting pypiwin32\n",
      "  Downloading pypiwin32-223-py3-none-any.whl (1.7 kB)\n",
      "Requirement already satisfied: pywin32>=223 in c:\\anaconda\\lib\\site-packages (from pypiwin32) (227)\n",
      "Installing collected packages: pypiwin32\n",
      "Successfully installed pypiwin32-223\n"
     ]
    },
    {
     "name": "stderr",
     "output_type": "stream",
     "text": [
      "WARNING: You are using pip version 20.3.3; however, version 21.1 is available.\n",
      "You should consider upgrading via the 'c:\\anaconda\\python.exe -m pip install --upgrade pip' command.\n"
     ]
    }
   ],
   "source": [
    "!pip install -U pypiwin32"
   ]
  },
  {
   "cell_type": "code",
   "execution_count": 8,
   "metadata": {},
   "outputs": [
    {
     "name": "stdout",
     "output_type": "stream",
     "text": [
      "Collecting SpeechRecognition\n",
      "  Downloading SpeechRecognition-3.8.1-py2.py3-none-any.whl (32.8 MB)\n",
      "Installing collected packages: SpeechRecognition\n",
      "Successfully installed SpeechRecognition-3.8.1\n"
     ]
    },
    {
     "name": "stderr",
     "output_type": "stream",
     "text": [
      "WARNING: You are using pip version 20.3.3; however, version 21.1 is available.\n",
      "You should consider upgrading via the 'c:\\anaconda\\python.exe -m pip install --upgrade pip' command.\n"
     ]
    }
   ],
   "source": [
    "!pip install SpeechRecognition"
   ]
  },
  {
   "cell_type": "code",
   "execution_count": 11,
   "metadata": {},
   "outputs": [
    {
     "name": "stdout",
     "output_type": "stream",
     "text": [
      "Collecting pipwin\n",
      "  Downloading pipwin-0.5.1.tar.gz (8.8 kB)\n",
      "Requirement already satisfied: requests in c:\\anaconda\\lib\\site-packages (from pipwin) (2.24.0)\n",
      "Requirement already satisfied: six in c:\\anaconda\\lib\\site-packages (from pipwin) (1.15.0)\n",
      "Requirement already satisfied: beautifulsoup4>=4.9.0 in c:\\anaconda\\lib\\site-packages (from pipwin) (4.9.3)\n",
      "Requirement already satisfied: packaging in c:\\anaconda\\lib\\site-packages (from pipwin) (20.4)\n",
      "Requirement already satisfied: soupsieve>1.2 in c:\\anaconda\\lib\\site-packages (from beautifulsoup4>=4.9.0->pipwin) (2.0.1)\n",
      "Collecting pySmartDL>=1.3.1\n",
      "  Downloading pySmartDL-1.3.4-py3-none-any.whl (20 kB)\n"
     ]
    },
    {
     "name": "stderr",
     "output_type": "stream",
     "text": [
      "WARNING: You are using pip version 20.3.3; however, version 21.1 is available.\n",
      "You should consider upgrading via the 'c:\\anaconda\\python.exe -m pip install --upgrade pip' command.\n"
     ]
    },
    {
     "name": "stdout",
     "output_type": "stream",
     "text": [
      "Collecting docopt\n",
      "  Downloading docopt-0.6.2.tar.gz (25 kB)\n",
      "Collecting js2py\n",
      "  Downloading Js2Py-0.71-py3-none-any.whl (1.0 MB)\n",
      "Requirement already satisfied: tzlocal>=1.2 in c:\\anaconda\\lib\\site-packages (from js2py->pipwin) (2.1)\n",
      "Collecting pyjsparser>=2.5.1\n",
      "  Downloading pyjsparser-2.7.1.tar.gz (24 kB)\n",
      "Requirement already satisfied: pytz in c:\\anaconda\\lib\\site-packages (from tzlocal>=1.2->js2py->pipwin) (2020.1)\n",
      "Requirement already satisfied: pyparsing>=2.0.2 in c:\\anaconda\\lib\\site-packages (from packaging->pipwin) (2.4.7)\n",
      "Collecting pyprind\n",
      "  Downloading PyPrind-2.11.3-py2.py3-none-any.whl (8.4 kB)\n",
      "Requirement already satisfied: chardet<4,>=3.0.2 in c:\\anaconda\\lib\\site-packages (from requests->pipwin) (3.0.4)\n",
      "Requirement already satisfied: certifi>=2017.4.17 in c:\\anaconda\\lib\\site-packages (from requests->pipwin) (2020.6.20)\n",
      "Requirement already satisfied: urllib3!=1.25.0,!=1.25.1,<1.26,>=1.21.1 in c:\\anaconda\\lib\\site-packages (from requests->pipwin) (1.25.11)\n",
      "Requirement already satisfied: idna<3,>=2.5 in c:\\anaconda\\lib\\site-packages (from requests->pipwin) (2.10)\n",
      "Building wheels for collected packages: pipwin, docopt, pyjsparser\n",
      "  Building wheel for pipwin (setup.py): started\n",
      "  Building wheel for pipwin (setup.py): finished with status 'done'\n",
      "  Created wheel for pipwin: filename=pipwin-0.5.1-py2.py3-none-any.whl size=8784 sha256=8f7a0d4b97dd3fc51c187597ff5adba9d014074537d42456335bb24a8ab51980\n",
      "  Stored in directory: c:\\users\\winwi\\appdata\\local\\pip\\cache\\wheels\\94\\1b\\63\\6465d24b53c03f566cfb25a7a9b806b4b0e29c95d82ac189d8\n",
      "  Building wheel for docopt (setup.py): started\n",
      "  Building wheel for docopt (setup.py): finished with status 'done'\n",
      "  Created wheel for docopt: filename=docopt-0.6.2-py2.py3-none-any.whl size=13709 sha256=b241064a0e0d9af449a0e4eb7cb270fb27f882040bf0df003b5511a7ecab545d\n",
      "  Stored in directory: c:\\users\\winwi\\appdata\\local\\pip\\cache\\wheels\\56\\ea\\58\\ead137b087d9e326852a851351d1debf4ada529b6ac0ec4e8c\n",
      "  Building wheel for pyjsparser (setup.py): started\n",
      "  Building wheel for pyjsparser (setup.py): finished with status 'done'\n",
      "  Created wheel for pyjsparser: filename=pyjsparser-2.7.1-py3-none-any.whl size=26004 sha256=fbd6cb4bcdff397baab425fbca828fe6eaafaf8b5e88be9a557e2e376224b9c5\n",
      "  Stored in directory: c:\\users\\winwi\\appdata\\local\\pip\\cache\\wheels\\d5\\88\\34\\ccb5bb40eb3178a134eb293e6c363928c5bcfba0b91031db76\n",
      "Successfully built pipwin docopt pyjsparser\n",
      "Installing collected packages: pyjsparser, pySmartDL, pyprind, js2py, docopt, pipwin\n",
      "Successfully installed docopt-0.6.2 js2py-0.71 pipwin-0.5.1 pySmartDL-1.3.4 pyjsparser-2.7.1 pyprind-2.11.3\n"
     ]
    }
   ],
   "source": [
    "!pip install pipwin"
   ]
  },
  {
   "cell_type": "code",
   "execution_count": 12,
   "metadata": {},
   "outputs": [
    {
     "name": "stdout",
     "output_type": "stream",
     "text": [
      "Building cache. Hang on . . .\n",
      "Done\n",
      "Package `pyaudio` found in cache\n",
      "Downloading package . . .\n",
      "https://download.lfd.uci.edu/pythonlibs/w4tscw6k/PyAudio-0.2.11-cp38-cp38-win_amd64.whl\n",
      "PyAudio-0.2.11-cp38-cp38-win_amd64.whl\n",
      "[*] 0 bytes / 109 kB @ 0 bytes/s [------------------] [0.0%, 0s left]   \b\b\b\b\b\b\b\b\b\b\b\b\b\b\b\b\b\b\b\b\b\b\b\b\b\b\b\b\b\b\b\b\b\b\b\b\b\b\b\b\b\b\b\b\b\b\b\b\b\b\b\b\b\b\b\b\b\b\b\b\b\b\b\b\b\b\b\b\b\b\b\b\b [*] 0 bytes / 109 kB @ 0 bytes/s [------------------] [0.0%, 0s left]   \b\b\b\b\b\b\b\b\b\b\b\b\b\b\b\b\b\b\b\b\b\b\b\b\b\b\b\b\b\b\b\b\b\b\b\b\b\b\b\b\b\b\b\b\b\b\b\b\b\b\b\b\b\b\b\b\b\b\b\b\b\b\b\b\b\b\b\b\b\b\b\b\b [*] 0 bytes / 109 kB @ 0 bytes/s [------------------] [0.0%, 0s left]   \b\b\b\b\b\b\b\b\b\b\b\b\b\b\b\b\b\b\b\b\b\b\b\b\b\b\b\b\b\b\b\b\b\b\b\b\b\b\b\b\b\b\b\b\b\b\b\b\b\b\b\b\b\b\b\b\b\b\b\b\b\b\b\b\b\b\b\b\b\b\b\b\b [*] 0 bytes / 109 kB @ 0 bytes/s [------------------] [0.0%, 0s left]   \b\b\b\b\b\b\b\b\b\b\b\b\b\b\b\b\b\b\b\b\b\b\b\b\b\b\b\b\b\b\b\b\b\b\b\b\b\b\b\b\b\b\b\b\b\b\b\b\b\b\b\b\b\b\b\b\b\b\b\b\b\b\b\b\b\b\b\b\b\b\b\b\b [*] 0 bytes / 109 kB @ 0 bytes/s [------------------] [0.0%, 0s left]   \b\b\b\b\b\b\b\b\b\b\b\b\b\b\b\b\b\b\b\b\b\b\b\b\b\b\b\b\b\b\b\b\b\b\b\b\b\b\b\b\b\b\b\b\b\b\b\b\b\b\b\b\b\b\b\b\b\b\b\b\b\b\b\b\b\b\b\b\b\b\b\b\b [*] 0 bytes / 109 kB @ 0 bytes/s [------------------] [0.0%, 0s left]   \b\b\b\b\b\b\b\b\b\b\b\b\b\b\b\b\b\b\b\b\b\b\b\b\b\b\b\b\b\b\b\b\b\b\b\b\b\b\b\b\b\b\b\b\b\b\b\b\b\b\b\b\b\b\b\b\b\b\b\b\b\b\b\b\b\b\b\b\b\b\b\b\b [*] 0 bytes / 109 kB @ 0 bytes/s [------------------] [0.0%, 0s left]   \b\b\b\b\b\b\b\b\b\b\b\b\b\b\b\b\b\b\b\b\b\b\b\b\b\b\b\b\b\b\b\b\b\b\b\b\b\b\b\b\b\b\b\b\b\b\b\b\b\b\b\b\b\b\b\b\b\b\b\b\b\b\b\b\b\b\b\b\b\b\b\b\b [*] 0 bytes / 109 kB @ 0 bytes/s [------------------] [0.0%, 0s left]   \b\b\b\b\b\b\b\b\b\b\b\b\b\b\b\b\b\b\b\b\b\b\b\b\b\b\b\b\b\b\b\b\b\b\b\b\b\b\b\b\b\b\b\b\b\b\b\b\b\b\b\b\b\b\b\b\b\b\b\b\b\b\b\b\b\b\b\b\b\b\b\b\b [*] 0 bytes / 109 kB @ 0 bytes/s [------------------] [0.0%, 0s left]   \b\b\b\b\b\b\b\b\b\b\b\b\b\b\b\b\b\b\b\b\b\b\b\b\b\b\b\b\b\b\b\b\b\b\b\b\b\b\b\b\b\b\b\b\b\b\b\b\b\b\b\b\b\b\b\b\b\b\b\b\b\b\b\b\b\b\b\b\b\b\b\b\b [*] 0 bytes / 109 kB @ 0 bytes/s [------------------] [0.0%, 0s left]   \b\b\b\b\b\b\b\b\b\b\b\b\b\b\b\b\b\b\b\b\b\b\b\b\b\b\b\b\b\b\b\b\b\b\b\b\b\b\b\b\b\b\b\b\b\b\b\b\b\b\b\b\b\b\b\b\b\b\b\b\b\b\b\b\b\b\b\b\b\b\b\b\b [*] 0 bytes / 109 kB @ 0 bytes/s [------------------] [0.0%, 0s left]   \b\b\b\b\b\b\b\b\b\b\b\b\b\b\b\b\b\b\b\b\b\b\b\b\b\b\b\b\b\b\b\b\b\b\b\b\b\b\b\b\b\b\b\b\b\b\b\b\b\b\b\b\b\b\b\b\b\b\b\b\b\b\b\b\b\b\b\b\b\b\b\b\b [*] 0 bytes / 109 kB @ 0 bytes/s [------------------] [0.0%, 0s left]   \b\b\b\b\b\b\b\b\b\b\b\b\b\b\b\b\b\b\b\b\b\b\b\b\b\b\b\b\b\b\b\b\b\b\b\b\b\b\b\b\b\b\b\b\b\b\b\b\b\b\b\b\b\b\b\b\b\b\b\b\b\b\b\b\b\b\b\b\b\b\b\b\b [*] 0 bytes / 109 kB @ 0 bytes/s [------------------] [0.0%, 0s left]   \b\b\b\b\b\b\b\b\b\b\b\b\b\b\b\b\b\b\b\b\b\b\b\b\b\b\b\b\b\b\b\b\b\b\b\b\b\b\b\b\b\b\b\b\b\b\b\b\b\b\b\b\b\b\b\b\b\b\b\b\b\b\b\b\b\b\b\b\b\b\b\b\b [*] 0 bytes / 109 kB @ 0 bytes/s [------------------] [0.0%, 0s left]   \b\b\b\b\b\b\b\b\b\b\b\b\b\b\b\b\b\b\b\b\b\b\b\b\b\b\b\b\b\b\b\b\b\b\b\b\b\b\b\b\b\b\b\b\b\b\b\b\b\b\b\b\b\b\b\b\b\b\b\b\b\b\b\b\b\b\b\b\b\b\b\b\b [*] 8 kB / 109 kB @ 5 kB/s [#-----------------] [7.4%, 0s left]   \b\b\b\b\b\b\b\b\b\b\b\b\b\b\b\b\b\b\b\b\b\b\b\b\b\b\b\b\b\b\b\b\b\b\b\b\b\b\b\b\b\b\b\b\b\b\b\b\b\b\b\b\b\b\b\b\b\b\b\b\b\b\b\b\b\b\b [*] 8 kB / 109 kB @ 5 kB/s [#-----------------] [7.4%, 0s left]   \b\b\b\b\b\b\b\b\b\b\b\b\b\b\b\b\b\b\b\b\b\b\b\b\b\b\b\b\b\b\b\b\b\b\b\b\b\b\b\b\b\b\b\b\b\b\b\b\b\b\b\b\b\b\b\b\b\b\b\b\b\b\b\b\b\b\b [*] 40 kB / 109 kB @ 24 kB/s [######------------] [36.8%, 0s left]   \b\b\b\b\b\b\b\b\b\b\b\b\b\b\b\b\b\b\b\b\b\b\b\b\b\b\b\b\b\b\b\b\b\b\b\b\b\b\b\b\b\b\b\b\b\b\b\b\b\b\b\b\b\b\b\b\b\b\b\b\b\b\b\b\b\b\b\b\b\b [*] 40 kB / 109 kB @ 22 kB/s [######------------] [36.8%, 0s left]   \b\b\b\b\b\b\b\b\b\b\b\b\b\b\b\b\b\b\b\b\b\b\b\b\b\b\b\b\b\b\b\b\b\b\b\b\b\b\b\b\b\b\b\b\b\b\b\b\b\b\b\b\b\b\b\b\b\b\b\b\b\b\b\b\b\b\b\b\b\b [*] 40 kB / 109 kB @ 21 kB/s [######------------] [36.8%, 0s left]   \b\b\b\b\b\b\b\b\b\b\b\b\b\b\b\b\b\b\b\b\b\b\b\b\b\b\b\b\b\b\b\b\b\b\b\b\b\b\b\b\b\b\b\b\b\b\b\b\b\b\b\b\b\b\b\b\b\b\b\b\b\b\b\b\b\b\b\b\b\b Processing c:\\users\\winwi\\pipwin\\pyaudio-0.2.11-cp38-cp38-win_amd64.whl\n",
      "Installing collected packages: PyAudio\n",
      "Successfully installed PyAudio-0.2.11\n",
      "[*] 109 kB / 109 kB @ 21 kB/s [##################] [100%, 0s left]    \n"
     ]
    },
    {
     "name": "stderr",
     "output_type": "stream",
     "text": [
      "WARNING: You are using pip version 20.3.3; however, version 21.1 is available.\n",
      "You should consider upgrading via the 'c:\\anaconda\\python.exe -m pip install --upgrade pip' command.\n"
     ]
    }
   ],
   "source": [
    "!pipwin install pyaudio"
   ]
  },
  {
   "cell_type": "code",
   "execution_count": 94,
   "metadata": {},
   "outputs": [
    {
     "name": "stdout",
     "output_type": "stream",
     "text": [
      "Collecting InvoiceGenerator\n",
      "  Downloading InvoiceGenerator-1.1.0.tar.gz (1.2 MB)\n",
      "Requirement already satisfied: pillow in c:\\anaconda\\lib\\site-packages (from InvoiceGenerator) (8.0.1)\n",
      "Requirement already satisfied: babel in c:\\anaconda\\lib\\site-packages (from InvoiceGenerator) (2.8.1)\n",
      "Collecting qrplatba>=0.3.3\n",
      "  Downloading qrplatba-0.3.4.tar.gz (5.0 kB)\n",
      "Collecting qrcode>=3.0.0\n",
      "  Downloading qrcode-6.1-py2.py3-none-any.whl (31 kB)\n",
      "Requirement already satisfied: colorama in c:\\anaconda\\lib\\site-packages (from qrcode>=3.0.0->qrplatba>=0.3.3->InvoiceGenerator) (0.4.4)\n",
      "Requirement already satisfied: six in c:\\anaconda\\lib\\site-packages (from qrcode>=3.0.0->qrplatba>=0.3.3->InvoiceGenerator) (1.15.0)\n",
      "Requirement already satisfied: pytz>=2015.7 in c:\\anaconda\\lib\\site-packages (from babel->InvoiceGenerator) (2020.1)\n",
      "Collecting reportlab\n",
      "  Downloading reportlab-3.5.67-cp38-cp38-win_amd64.whl (2.3 MB)\n",
      "Building wheels for collected packages: InvoiceGenerator, qrplatba\n",
      "  Building wheel for InvoiceGenerator (setup.py): started\n",
      "  Building wheel for InvoiceGenerator (setup.py): finished with status 'done'\n",
      "  Created wheel for InvoiceGenerator: filename=InvoiceGenerator-1.1.0-py3-none-any.whl size=1136106 sha256=d6130495f274a41520890bffb71ea646efdd394fe98c1b9b771be8e064b4b324\n",
      "  Stored in directory: c:\\users\\winwi\\appdata\\local\\pip\\cache\\wheels\\fe\\73\\47\\c7feb5b2bb70e233840afe039a4ecafe3ba16d958f425a94bb\n",
      "  Building wheel for qrplatba (setup.py): started\n",
      "  Building wheel for qrplatba (setup.py): finished with status 'done'\n",
      "  Created wheel for qrplatba: filename=qrplatba-0.3.4-py3-none-any.whl size=5480 sha256=8a771ece38dc313fa2b00890a0844fa50e9a1ed5e0d7e33c223ddad6d79021e0\n",
      "  Stored in directory: c:\\users\\winwi\\appdata\\local\\pip\\cache\\wheels\\22\\03\\50\\92dbf140cc1c67187daece7dd471d6d46360f6a56659c3cfbd\n",
      "Successfully built InvoiceGenerator qrplatba\n",
      "Installing collected packages: qrcode, reportlab, qrplatba, InvoiceGenerator\n",
      "Successfully installed InvoiceGenerator-1.1.0 qrcode-6.1 qrplatba-0.3.4 reportlab-3.5.67\n"
     ]
    },
    {
     "name": "stderr",
     "output_type": "stream",
     "text": [
      "WARNING: You are using pip version 20.3.3; however, version 21.1 is available.\n",
      "You should consider upgrading via the 'c:\\anaconda\\python.exe -m pip install --upgrade pip' command.\n"
     ]
    }
   ],
   "source": [
    "!pip install InvoiceGenerator"
   ]
  },
  {
   "cell_type": "code",
   "execution_count": 16,
   "metadata": {},
   "outputs": [
    {
     "name": "stdout",
     "output_type": "stream",
     "text": [
      "Collecting secure-smtplib"
     ]
    },
    {
     "name": "stderr",
     "output_type": "stream",
     "text": [
      "WARNING: You are using pip version 20.3.3; however, version 21.1 is available.\n",
      "You should consider upgrading via the 'c:\\anaconda\\python.exe -m pip install --upgrade pip' command.\n"
     ]
    },
    {
     "name": "stdout",
     "output_type": "stream",
     "text": [
      "\n",
      "  Downloading secure_smtplib-0.1.1-py2.py3-none-any.whl (3.4 kB)\n",
      "Installing collected packages: secure-smtplib\n",
      "Successfully installed secure-smtplib-0.1.1\n"
     ]
    }
   ],
   "source": [
    "!pip install secure-smtplib"
   ]
  },
  {
   "cell_type": "code",
   "execution_count": 1,
   "metadata": {},
   "outputs": [
    {
     "data": {
      "text/plain": [
       "1"
      ]
     },
     "execution_count": 1,
     "metadata": {},
     "output_type": "execute_result"
    }
   ],
   "source": [
    "import win32com.client as wincl\n",
    "speak = wincl.Dispatch(\"SAPI.SpVoice\")\n",
    "speak.Speak(\"Hi There!\")"
   ]
  },
  {
   "cell_type": "code",
   "execution_count": 2,
   "metadata": {},
   "outputs": [],
   "source": [
    "import speech_recognition as sr"
   ]
  },
  {
   "cell_type": "code",
   "execution_count": 3,
   "metadata": {},
   "outputs": [
    {
     "data": {
      "text/plain": [
       "['Microsoft Sound Mapper - Input',\n",
       " 'Microphone Array (Intel® Smart ',\n",
       " 'Microsoft Sound Mapper - Output',\n",
       " 'Speakers (Realtek(R) Audio)',\n",
       " 'DELL ST2420L (Intel(R) Display ',\n",
       " 'Primary Sound Capture Driver',\n",
       " 'Microphone Array (Intel® Smart Sound Technology (Intel® SST))',\n",
       " 'Primary Sound Driver',\n",
       " 'Speakers (Realtek(R) Audio)',\n",
       " 'DELL ST2420L (Intel(R) Display Audio)',\n",
       " 'Speakers (Realtek(R) Audio)',\n",
       " 'DELL ST2420L (Intel(R) Display Audio)',\n",
       " 'Microphone Array (Intel® Smart Sound Technology (Intel® SST))',\n",
       " 'Speakers 1 (Realtek HD Audio output with SST)',\n",
       " 'Speakers 2 (Realtek HD Audio output with SST)',\n",
       " 'PC Speaker (Realtek HD Audio output with SST)',\n",
       " 'Stereo Mix (Realtek HD Audio Stereo input)',\n",
       " 'Headphones 1 (Realtek HD Audio 2nd output with SST)',\n",
       " 'Headphones 2 (Realtek HD Audio 2nd output with SST)',\n",
       " 'PC Speaker (Realtek HD Audio 2nd output with SST)',\n",
       " 'Output (Intel(R) Display Audio Output 1.1)',\n",
       " 'Microphone Array 1 (Intel® Smart Sound Technology (Intel® SST) Microphone)',\n",
       " 'Microphone Array 2 (Intel® Smart Sound Technology (Intel® SST) Microphone)',\n",
       " 'Microphone Array 3 (Intel® Smart Sound Technology (Intel® SST) Microphone)']"
      ]
     },
     "execution_count": 3,
     "metadata": {},
     "output_type": "execute_result"
    }
   ],
   "source": [
    "sr.Microphone.list_microphone_names()"
   ]
  },
  {
   "cell_type": "code",
   "execution_count": 4,
   "metadata": {},
   "outputs": [],
   "source": [
    "r = sr.Recognizer()\n",
    "mic = sr.Microphone(device_index=1)"
   ]
  },
  {
   "cell_type": "code",
   "execution_count": 5,
   "metadata": {},
   "outputs": [],
   "source": [
    "with mic as source:\n",
    "    #r.adjust_for_ambient_noise(source)\n",
    "    audio = r.listen(source)"
   ]
  },
  {
   "cell_type": "code",
   "execution_count": 6,
   "metadata": {},
   "outputs": [
    {
     "ename": "UnknownValueError",
     "evalue": "",
     "output_type": "error",
     "traceback": [
      "\u001b[1;31m---------------------------------------------------------------------------\u001b[0m",
      "\u001b[1;31mUnknownValueError\u001b[0m                         Traceback (most recent call last)",
      "\u001b[1;32m<ipython-input-6-59c33ef07a2e>\u001b[0m in \u001b[0;36m<module>\u001b[1;34m\u001b[0m\n\u001b[1;32m----> 1\u001b[1;33m \u001b[0mr\u001b[0m\u001b[1;33m.\u001b[0m\u001b[0mrecognize_google\u001b[0m\u001b[1;33m(\u001b[0m\u001b[0maudio\u001b[0m\u001b[1;33m)\u001b[0m\u001b[1;33m\u001b[0m\u001b[1;33m\u001b[0m\u001b[0m\n\u001b[0m",
      "\u001b[1;32mC:\\Anaconda\\lib\\site-packages\\speech_recognition\\__init__.py\u001b[0m in \u001b[0;36mrecognize_google\u001b[1;34m(self, audio_data, key, language, show_all)\u001b[0m\n\u001b[0;32m    856\u001b[0m         \u001b[1;31m# return results\u001b[0m\u001b[1;33m\u001b[0m\u001b[1;33m\u001b[0m\u001b[1;33m\u001b[0m\u001b[0m\n\u001b[0;32m    857\u001b[0m         \u001b[1;32mif\u001b[0m \u001b[0mshow_all\u001b[0m\u001b[1;33m:\u001b[0m \u001b[1;32mreturn\u001b[0m \u001b[0mactual_result\u001b[0m\u001b[1;33m\u001b[0m\u001b[1;33m\u001b[0m\u001b[0m\n\u001b[1;32m--> 858\u001b[1;33m         \u001b[1;32mif\u001b[0m \u001b[1;32mnot\u001b[0m \u001b[0misinstance\u001b[0m\u001b[1;33m(\u001b[0m\u001b[0mactual_result\u001b[0m\u001b[1;33m,\u001b[0m \u001b[0mdict\u001b[0m\u001b[1;33m)\u001b[0m \u001b[1;32mor\u001b[0m \u001b[0mlen\u001b[0m\u001b[1;33m(\u001b[0m\u001b[0mactual_result\u001b[0m\u001b[1;33m.\u001b[0m\u001b[0mget\u001b[0m\u001b[1;33m(\u001b[0m\u001b[1;34m\"alternative\"\u001b[0m\u001b[1;33m,\u001b[0m \u001b[1;33m[\u001b[0m\u001b[1;33m]\u001b[0m\u001b[1;33m)\u001b[0m\u001b[1;33m)\u001b[0m \u001b[1;33m==\u001b[0m \u001b[1;36m0\u001b[0m\u001b[1;33m:\u001b[0m \u001b[1;32mraise\u001b[0m \u001b[0mUnknownValueError\u001b[0m\u001b[1;33m(\u001b[0m\u001b[1;33m)\u001b[0m\u001b[1;33m\u001b[0m\u001b[1;33m\u001b[0m\u001b[0m\n\u001b[0m\u001b[0;32m    859\u001b[0m \u001b[1;33m\u001b[0m\u001b[0m\n\u001b[0;32m    860\u001b[0m         \u001b[1;32mif\u001b[0m \u001b[1;34m\"confidence\"\u001b[0m \u001b[1;32min\u001b[0m \u001b[0mactual_result\u001b[0m\u001b[1;33m[\u001b[0m\u001b[1;34m\"alternative\"\u001b[0m\u001b[1;33m]\u001b[0m\u001b[1;33m:\u001b[0m\u001b[1;33m\u001b[0m\u001b[1;33m\u001b[0m\u001b[0m\n",
      "\u001b[1;31mUnknownValueError\u001b[0m: "
     ]
    }
   ],
   "source": [
    "r.recognize_google(audio)"
   ]
  },
  {
   "cell_type": "code",
   "execution_count": 25,
   "metadata": {},
   "outputs": [],
   "source": [
    "import random\n",
    "import string\n",
    "from tensorflow.keras.preprocessing.sequence import pad_sequences\n",
    "import tensorflow as tf\n",
    "import numpy as np\n",
    "import pandas as pd\n",
    "import json\n",
    "import nltk\n",
    "from tensorflow.keras.preprocessing.text import Tokenizer\n",
    "from tensorflow.keras.layers import Input, Embedding, LSTM , Dense,GlobalMaxPooling1D,Flatten\n",
    "from tensorflow.keras.models import Model\n",
    "import matplotlib.pyplot as plt\n",
    "import joblib\n",
    "import time\n",
    "from collections import defaultdict\n",
    "import re\n",
    "import os\n",
    "import smtplib\n",
    "from email.mime.multipart import MIMEMultipart\n",
    "from email.mime.text import MIMEText\n",
    "from email.mime.base import MIMEBase\n",
    "from email import encoders\n",
    "from tempfile import NamedTemporaryFile\n",
    "from InvoiceGenerator.pdf import SimpleInvoice\n",
    "from InvoiceGenerator.api import Invoice, Item, Client, Provider, Creator"
   ]
  },
  {
   "cell_type": "code",
   "execution_count": 8,
   "metadata": {},
   "outputs": [],
   "source": [
    "# Load the model and helper objects\n",
    "model = tf.keras.models.load_model('model/intents_chatbot_tf2_lstm_order_food.h5')\n",
    "le = joblib.load('loads/le_chatbot.pkl')\n",
    "tokenizer = joblib.load('loads/token_chatbot.pkl')\n",
    "responses = joblib.load('loads/response_chatbot.pkl')\n",
    "input_shape = 6"
   ]
  },
  {
   "cell_type": "code",
   "execution_count": 9,
   "metadata": {},
   "outputs": [],
   "source": [
    "# Load the order price file\n",
    "price = pd.read_csv('data/order_price.csv')"
   ]
  },
  {
   "cell_type": "code",
   "execution_count": 10,
   "metadata": {},
   "outputs": [
    {
     "data": {
      "text/html": [
       "<div>\n",
       "<style scoped>\n",
       "    .dataframe tbody tr th:only-of-type {\n",
       "        vertical-align: middle;\n",
       "    }\n",
       "\n",
       "    .dataframe tbody tr th {\n",
       "        vertical-align: top;\n",
       "    }\n",
       "\n",
       "    .dataframe thead th {\n",
       "        text-align: right;\n",
       "    }\n",
       "</style>\n",
       "<table border=\"1\" class=\"dataframe\">\n",
       "  <thead>\n",
       "    <tr style=\"text-align: right;\">\n",
       "      <th></th>\n",
       "      <th>order</th>\n",
       "      <th>price</th>\n",
       "    </tr>\n",
       "  </thead>\n",
       "  <tbody>\n",
       "    <tr>\n",
       "      <th>0</th>\n",
       "      <td>coffee</td>\n",
       "      <td>50</td>\n",
       "    </tr>\n",
       "    <tr>\n",
       "      <th>1</th>\n",
       "      <td>burger_mid</td>\n",
       "      <td>240</td>\n",
       "    </tr>\n",
       "    <tr>\n",
       "      <th>2</th>\n",
       "      <td>burger_big</td>\n",
       "      <td>460</td>\n",
       "    </tr>\n",
       "    <tr>\n",
       "      <th>3</th>\n",
       "      <td>sandwitch_big</td>\n",
       "      <td>140</td>\n",
       "    </tr>\n",
       "    <tr>\n",
       "      <th>4</th>\n",
       "      <td>sandwitch_mid</td>\n",
       "      <td>280</td>\n",
       "    </tr>\n",
       "  </tbody>\n",
       "</table>\n",
       "</div>"
      ],
      "text/plain": [
       "           order  price\n",
       "0         coffee     50\n",
       "1     burger_mid    240\n",
       "2     burger_big    460\n",
       "3  sandwitch_big    140\n",
       "4  sandwitch_mid    280"
      ]
     },
     "execution_count": 10,
     "metadata": {},
     "output_type": "execute_result"
    }
   ],
   "source": [
    "price.head()"
   ]
  },
  {
   "cell_type": "code",
   "execution_count": 29,
   "metadata": {},
   "outputs": [],
   "source": [
    "price = defaultdict()\n",
    "price['coffee'] = 50\n",
    "price['burger_mid'] = 240\n",
    "price['burger_big'] = 460\n",
    "price['sandwitch_big'] = 140\n",
    "price['sandwitch_mid'] = 280"
   ]
  },
  {
   "cell_type": "code",
   "execution_count": 12,
   "metadata": {},
   "outputs": [],
   "source": [
    "#Dict to store all the item to generate bill\n",
    "final_bill = []"
   ]
  },
  {
   "cell_type": "code",
   "execution_count": 27,
   "metadata": {},
   "outputs": [],
   "source": [
    "def check(email):\n",
    " \n",
    "    # pass the regular expression\n",
    "    # and the string in search() method\n",
    "    if(re.search(regex, email)):\n",
    "        return True\n",
    " \n",
    "    else:\n",
    "        return False"
   ]
  },
  {
   "cell_type": "code",
   "execution_count": 38,
   "metadata": {},
   "outputs": [],
   "source": [
    "def createInvoice():\n",
    "        # choose english as language\n",
    "    os.environ[\"INVOICE_LANG\"] = \"en\"\n",
    "\n",
    "    client = Client(customer_name)\n",
    "    provider = Provider('ABC Food', bank_account='2600420569', bank_code='2021')\n",
    "    creator = Creator('e-billing')\n",
    "\n",
    "    invoice = Invoice(client, provider, creator)\n",
    "    invoice.currency_locale = 'en_IN'\n",
    "    # Unit/quant , Price , Item name \n",
    "    for item in final_bill:\n",
    "        invoice.add_item(Item(item['quantity'], item['price'], description=item['item']))\n",
    "    pdf = SimpleInvoice(invoice)\n",
    "    pdf.gen(\"invoice.pdf\", generate_qr_code=True)\n",
    "    print('Invoice Created')"
   ]
  },
  {
   "cell_type": "code",
   "execution_count": 39,
   "metadata": {},
   "outputs": [],
   "source": [
    "def sendEmail():\n",
    "    body = '''Hello,\n",
    "    Please check the Invoice for your order\n",
    "    sicerely yours\n",
    "    ABC Food\n",
    "    '''\n",
    "    # put your email here\n",
    "    sender = 'aman@techcreativa.com'\n",
    "    # get the password in the gmail (manage your google account, click on the avatar on the right)\n",
    "    # then go to security (right) and app password (center)\n",
    "    # insert the password and then choose mail and this computer and then generate\n",
    "    # copy the password generated here\n",
    "    password = 'aman@tc'\n",
    "    # put the email of the receiver here\n",
    "    receiver = 'winwithaman@gmail.com'\n",
    "\n",
    "    #Setup the MIME\n",
    "    message = MIMEMultipart()\n",
    "    message['From'] = sender\n",
    "    message['To'] = receiver\n",
    "    message['Subject'] = 'This email has an attacment, a pdf file'\n",
    "\n",
    "    message.attach(MIMEText(body, 'plain'))\n",
    "\n",
    "    pdfname = 'invoice.pdf'\n",
    "\n",
    "    # open the file in bynary\n",
    "    binary_pdf = open(pdfname, 'rb')\n",
    "\n",
    "    payload = MIMEBase('application', 'octate-stream', Name=pdfname)\n",
    "    # payload = MIMEBase('application', 'pdf', Name=pdfname)\n",
    "    payload.set_payload((binary_pdf).read())\n",
    "\n",
    "    # enconding the binary into base64\n",
    "    encoders.encode_base64(payload)\n",
    "\n",
    "    # add header with pdf name\n",
    "    payload.add_header('Content-Decomposition', 'attachment', filename=pdfname)\n",
    "    message.attach(payload)\n",
    "\n",
    "    #use gmail with port\n",
    "    session = smtplib.SMTP('smtp.hostinger.in', 587)\n",
    "\n",
    "    #enable security\n",
    "    session.starttls()\n",
    "\n",
    "    #login with mail_id and password\n",
    "    session.login(sender, password)\n",
    "\n",
    "    text = message.as_string()\n",
    "    session.sendmail(sender, receiver, text)\n",
    "    session.quit()\n",
    "    print('Mail Sent')\n"
   ]
  },
  {
   "cell_type": "markdown",
   "metadata": {},
   "source": [
    "## Testing the code in user input mode"
   ]
  },
  {
   "cell_type": "code",
   "execution_count": 40,
   "metadata": {},
   "outputs": [
    {
     "name": "stdout",
     "output_type": "stream",
     "text": [
      "################################################################################\n",
      "WELCOME TO FOOD ORDERING APPLICATION\n",
      " PLEASE ORDER YOUR MEAL AND SAY \"DONE\" ONCE YOU COMPLETE THE ORDER\n",
      "################################################################################\n",
      "Please Enter your Name: aman\n",
      "Please Enter your proper emailwinwithaman@gmail.com\n",
      "Order : coffee\n",
      "Enter the quantity :1\n",
      "coffee 1\n",
      "Going ChatBot :  coffee\n",
      "Order : a medium size burger\n",
      "Enter the quantity :2\n",
      "a medium size burger 2\n",
      "Going ChatBot :  burger_mid\n",
      "Order : done\n",
      "Mail Sent\n"
     ]
    }
   ],
   "source": [
    "print('#' * 80)\n",
    "print('WELCOME TO FOOD ORDERING APPLICATION\\n PLEASE ORDER YOUR MEAL AND SAY \"DONE\" ONCE YOU COMPLETE THE ORDER')\n",
    "print('#' * 80)\n",
    "final_bill = []\n",
    "customer_name = input('Please Enter your Name: ')\n",
    "customer_email = input('Please Enter your proper email')\n",
    "regex = '^(\\w|\\.|\\_|\\-)+[@](\\w|\\_|\\-|\\.)+[.]\\w{2,3}$'\n",
    "if not check(customer_email):\n",
    "    print('Email not valid')\n",
    "    customer_email = 'winwithaman@gmail.com'\n",
    "\n",
    "while True:\n",
    "    texts_p = []\n",
    "    prediction_input = input('Order : ')\n",
    "    if prediction_input == \"done\":\n",
    "        createInvoice()\n",
    "        sendEmail()\n",
    "        break\n",
    "      #removing punctuation and converting to lowercase\n",
    "    quant = int(input('Enter the quantity :'))\n",
    "    print(prediction_input,quant)\n",
    "    prediction_input = [letters.lower() for letters in prediction_input if letters not in string.punctuation]\n",
    "    prediction_input = ''.join(prediction_input)\n",
    "    texts_p.append(prediction_input)\n",
    "    #tokenizing and padding\n",
    "    prediction_input = tokenizer.texts_to_sequences(texts_p)\n",
    "    prediction_input = np.array(prediction_input).reshape(-1)\n",
    "    prediction_input = pad_sequences([prediction_input],input_shape)\n",
    "    #  getting output from model\n",
    "    output = model.predict(prediction_input)\n",
    "    output = output.argmax()\n",
    "    #finding the right tag and predicting\n",
    "    response_tag = le.inverse_transform([output])[0]\n",
    "    cost = price[response_tag]\n",
    "    if cost != 0:\n",
    "        final_bill.append({'item':response_tag,'price':cost,'quantity':quant})\n",
    "        print(\"Going ChatBot : \",random.choice(responses[response_tag]))\n",
    "    if response_tag == \"goodbye\":\n",
    "        break"
   ]
  },
  {
   "cell_type": "code",
   "execution_count": 41,
   "metadata": {},
   "outputs": [
    {
     "data": {
      "text/plain": [
       "[{'item': 'coffee', 'price': 50, 'quantity': 1},\n",
       " {'item': 'burger_mid', 'price': 240, 'quantity': 2}]"
      ]
     },
     "execution_count": 41,
     "metadata": {},
     "output_type": "execute_result"
    }
   ],
   "source": [
    "final_bill"
   ]
  },
  {
   "cell_type": "markdown",
   "metadata": {},
   "source": [
    "# Speech Recognition"
   ]
  },
  {
   "cell_type": "code",
   "execution_count": 36,
   "metadata": {},
   "outputs": [
    {
     "name": "stdout",
     "output_type": "stream",
     "text": [
      "################################################################################\n",
      "WELCOME TO FOOD ORDERING APPLICATION\n",
      " PLEASE ORDER YOUR MEAL AND SAY \"DONE\" ONCE YOU COMPLETE THE ORDER\n",
      "################################################################################\n",
      "Order !\n",
      "Quantity\n",
      "medium size burger Tu\n",
      "Going ChatBot :  burger_mid\n",
      "Going ChatBot :  burger_mid\n",
      "Order !\n",
      "Quantity\n",
      "coffee 1\n",
      "Going ChatBot :  coffee\n",
      "Going ChatBot :  coffee\n",
      "Order !\n"
     ]
    }
   ],
   "source": [
    "print('#' * 80)\n",
    "print('WELCOME TO FOOD ORDERING APPLICATION\\n PLEASE ORDER YOUR MEAL AND SAY \"DONE\" ONCE YOU COMPLETE THE ORDER')\n",
    "print('#' * 80)\n",
    "#speak.Speak(\"WELCOME TO FOOD ORDERING APPLICATION PLEASE ORDER YOUR MEAL AND SAY \\\"DONE\\\" ONCE YOU COMPLETE THE ORDER\")\n",
    "final_bill = []\n",
    "customer_name = input('Please Enter your Name: ')\n",
    "customer_email = input('Please Enter your proper email')\n",
    "regex = '^(\\w|\\.|\\_|\\-)+[@](\\w|\\_|\\-|\\.)+[.]\\w{2,3}$'\n",
    "while True:\n",
    "    texts_p = []\n",
    "    #prediction_input = input('You : ')\n",
    "    print(\"Order !\")\n",
    "    #speak.Speak('Say your order')\n",
    "    #time.sleep(2)\n",
    "    with mic as source:\n",
    "        r.adjust_for_ambient_noise(source,duration=1)\n",
    "        audio = r.listen(source,timeout=4)\n",
    "      #removing punctuation and converting to lowercase\n",
    "    prediction_input = r.recognize_google(audio)\n",
    "    if prediction_input == \"done\":\n",
    "        createInvoice()\n",
    "        sendEmail()\n",
    "        break\n",
    "    #speak.Speak('Quantity of order')\n",
    "    #time.sleep(2)\n",
    "    print('Quantity')\n",
    "    with mic as source:\n",
    "        r.adjust_for_ambient_noise(source,duration=1)\n",
    "        audio = r.listen(source,timeout=2)\n",
    "      #removing punctuation and converting to lowercase\n",
    "    quant = r.recognize_google(audio)\n",
    "    print(prediction_input,quant)\n",
    "    prediction_input = [letters.lower() for letters in prediction_input if letters not in string.punctuation]\n",
    "    prediction_input = ''.join(prediction_input)\n",
    "    texts_p.append(prediction_input)\n",
    "    #tokenizing and padding\n",
    "    prediction_input = tokenizer.texts_to_sequences(texts_p)\n",
    "    prediction_input = np.array(prediction_input).reshape(-1)\n",
    "    prediction_input = pad_sequences([prediction_input],input_shape)\n",
    "    #  getting output from model\n",
    "    output = model.predict(prediction_input)\n",
    "    output = output.argmax()\n",
    "    #finding the right tag and predicting\n",
    "    response_tag = le.inverse_transform([output])[0]\n",
    "    print(\"Going ChatBot : \",random.choice(responses[response_tag]))\n",
    "    #speak.Speak(\"Ordered \"+response_tag)\n",
    "    cost = price[response_tag]\n",
    "    if cost != 0:\n",
    "        final_bill.append({'item':response_tag,'price':cost,'quantity':quant})\n",
    "        print(\"Going ChatBot : \",random.choice(responses[response_tag]))\n",
    "    if response_tag == \"done\":\n",
    "        break"
   ]
  }
 ],
 "metadata": {
  "kernelspec": {
   "display_name": "Python 3",
   "language": "python",
   "name": "python3"
  },
  "language_info": {
   "codemirror_mode": {
    "name": "ipython",
    "version": 3
   },
   "file_extension": ".py",
   "mimetype": "text/x-python",
   "name": "python",
   "nbconvert_exporter": "python",
   "pygments_lexer": "ipython3",
   "version": "3.8.5"
  }
 },
 "nbformat": 4,
 "nbformat_minor": 4
}
